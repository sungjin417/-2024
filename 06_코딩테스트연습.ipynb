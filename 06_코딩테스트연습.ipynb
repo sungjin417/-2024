{
  "nbformat": 4,
  "nbformat_minor": 0,
  "metadata": {
    "colab": {
      "provenance": [],
      "toc_visible": true,
      "include_colab_link": true
    },
    "kernelspec": {
      "name": "python3",
      "display_name": "Python 3"
    },
    "language_info": {
      "name": "python"
    }
  },
  "cells": [
    {
      "cell_type": "markdown",
      "metadata": {
        "id": "view-in-github",
        "colab_type": "text"
      },
      "source": [
        "<a href=\"https://colab.research.google.com/github/sungjin417/-2024/blob/master/06_%EC%BD%94%EB%94%A9%ED%85%8C%EC%8A%A4%ED%8A%B8%EC%97%B0%EC%8A%B5.ipynb\" target=\"_parent\"><img src=\"https://colab.research.google.com/assets/colab-badge.svg\" alt=\"Open In Colab\"/></a>"
      ]
    },
    {
      "cell_type": "markdown",
      "source": [
        "# 파이선 문법"
      ],
      "metadata": {
        "id": "_G8EMU3olTef"
      }
    },
    {
      "cell_type": "markdown",
      "source": [
        "## 문제1 아이스아메리카노"
      ],
      "metadata": {
        "id": "3GOrt7Y0lXhp"
      }
    },
    {
      "cell_type": "code",
      "execution_count": null,
      "metadata": {
        "id": "eFwZROTMiVkU"
      },
      "outputs": [],
      "source": [
        "def solution(money):\n",
        "    return [money//5500, money% 5500]"
      ]
    },
    {
      "cell_type": "markdown",
      "source": [
        "## 문제2 피자나눠먹기"
      ],
      "metadata": {
        "id": "HsIGdpowmUHd"
      }
    },
    {
      "cell_type": "code",
      "source": [
        "import math\n",
        "#print(dir(math))\n",
        "def solution(slice, n):\n",
        "    return math.ceil(n/slice) # 올림함수"
      ],
      "metadata": {
        "id": "csI03lswmXFL"
      },
      "execution_count": null,
      "outputs": []
    },
    {
      "cell_type": "markdown",
      "source": [
        "## 문제3 숫자 비교하기"
      ],
      "metadata": {
        "id": "RrpNuE6Zm1t0"
      }
    },
    {
      "cell_type": "code",
      "source": [
        "def solution(num1, num2):\n",
        "    return 1 if num1 == num2 else -1"
      ],
      "metadata": {
        "id": "hNYaQPGom4Je"
      },
      "execution_count": null,
      "outputs": []
    },
    {
      "cell_type": "markdown",
      "source": [
        "## 문제4 양꼬치"
      ],
      "metadata": {
        "id": "yA8EIPNNnq-J"
      }
    },
    {
      "cell_type": "code",
      "source": [
        "def solution(n, k):\n",
        "    return n*12000 + (k-(n//10))*2000"
      ],
      "metadata": {
        "id": "-gWOwYwDnto6"
      },
      "execution_count": null,
      "outputs": []
    },
    {
      "cell_type": "markdown",
      "source": [
        "## 문제5 배열의 원소만큼 추가"
      ],
      "metadata": {
        "id": "i4yWIO-GorHk"
      }
    },
    {
      "cell_type": "code",
      "source": [
        "def solution(arr):\n",
        "    X = []\n",
        "    for i in arr:\n",
        "        for _ in range(i):\n",
        "            X.append(i)\n",
        "    return X"
      ],
      "metadata": {
        "id": "ZkZ1kKZfow_L"
      },
      "execution_count": null,
      "outputs": []
    },
    {
      "cell_type": "markdown",
      "source": [
        "## 문제6 문자열안의 문자열"
      ],
      "metadata": {
        "id": "gKbeEV2VpUlh"
      }
    },
    {
      "cell_type": "code",
      "source": [
        "def solution(str1, str2):\n",
        "\n",
        "    return  1 if str2 in str1 else 2"
      ],
      "metadata": {
        "id": "J3g0NT_ipX2V"
      },
      "execution_count": null,
      "outputs": []
    },
    {
      "cell_type": "markdown",
      "source": [
        "## 문제7 부족한 금액"
      ],
      "metadata": {
        "id": "44ajbyl6q4i2"
      }
    },
    {
      "cell_type": "code",
      "source": [
        "def solution(price, money, count):\n",
        "    cost = 0\n",
        "    for i in range(1, count+1):\n",
        "        cost += price*i\n",
        "    result = cost-money\n",
        "\n",
        "    return max(result, 0)"
      ],
      "metadata": {
        "id": "amMih_wrq8Jr"
      },
      "execution_count": null,
      "outputs": []
    },
    {
      "cell_type": "markdown",
      "source": [
        "## 문제8 짝홀"
      ],
      "metadata": {
        "id": "eqCDXJAdrOB_"
      }
    },
    {
      "cell_type": "code",
      "source": [
        "def solution(num):\n",
        "\n",
        "    return 'Even' if num % 2 == 0 else 'Odd'"
      ],
      "metadata": {
        "id": "9hYdNp7urQ4u"
      },
      "execution_count": null,
      "outputs": []
    },
    {
      "cell_type": "markdown",
      "source": [
        "## 문제9 두정수사이의 합"
      ],
      "metadata": {
        "id": "SmLzZg_ssZln"
      }
    },
    {
      "cell_type": "code",
      "source": [
        "def solution(a, b):\n",
        "    sum = 0\n",
        "    if a<b:\n",
        "        for i in range(a,b+1):\n",
        "            sum += i\n",
        "    else:\n",
        "        for i in range(b,a+1):\n",
        "            sum += i\n",
        "    return sum"
      ],
      "metadata": {
        "id": "hFPRuVTlscJb"
      },
      "execution_count": null,
      "outputs": []
    },
    {
      "cell_type": "code",
      "source": [
        "def solution(a, b):\n",
        "\n",
        "    return sum(range(min(a,b), max(a,b)+1))"
      ],
      "metadata": {
        "id": "QSbOWZznsr3H"
      },
      "execution_count": null,
      "outputs": []
    },
    {
      "cell_type": "markdown",
      "source": [
        "## 문제10 하샤드수"
      ],
      "metadata": {
        "id": "igY-hCCht3jW"
      }
    },
    {
      "cell_type": "code",
      "source": [
        "def solution(x):\n",
        "    digit_sum = 0\n",
        "    for i in str(x):\n",
        "        digit_sum += int(i)\n",
        "\n",
        "    return x % digit_sum == 0"
      ],
      "metadata": {
        "id": "6Zu4OZ15t2j8"
      },
      "execution_count": null,
      "outputs": []
    },
    {
      "cell_type": "code",
      "source": [
        "def solution(x):\n",
        "    return x % sum(int(i) for i in str(x)) == 0"
      ],
      "metadata": {
        "id": "uNhIL_ZVuNxu"
      },
      "execution_count": null,
      "outputs": []
    },
    {
      "cell_type": "markdown",
      "source": [
        "## 문제11 숫자짝궁"
      ],
      "metadata": {
        "id": "v0khjWmx0_jT"
      }
    },
    {
      "cell_type": "code",
      "source": [
        "## 시간 초과\n",
        "def solution(X, Y):\n",
        "    count_X = {i: X.count(i) for i in X}\n",
        "    count_Y = {i: Y.count(i) for i in Y}\n",
        "    common = {i: min(count_X.get(i, 0),count_Y.get(i, 0)) for i in count_X if i in count_Y}\n",
        "    result = \"\".join([i * common[i] for i in sorted(common, reverse=True)])\n",
        "    if not result or result == '0' * len(result):\n",
        "        return '0' if '0' in result else '-1'\n",
        "    return result"
      ],
      "metadata": {
        "id": "HKik8jnj1D1I"
      },
      "execution_count": null,
      "outputs": []
    },
    {
      "cell_type": "markdown",
      "source": [
        "collections.Counter 클래스 컬렉션객체의 요소의 빈도 계산"
      ],
      "metadata": {
        "id": "i9xrcHI41JDn"
      }
    },
    {
      "cell_type": "code",
      "source": [
        "from collections import Counter\n",
        "\n",
        "dir(Counter)"
      ],
      "metadata": {
        "id": "F4WkTT_m1ac6"
      },
      "execution_count": null,
      "outputs": []
    },
    {
      "cell_type": "code",
      "source": [
        "data = [1, 2, 2, 3,3,3]\n",
        "counter= Counter(data)\n",
        "print(counter)\n",
        "print(counter.most_common(1))\n",
        "print(counter.most_common(2))"
      ],
      "metadata": {
        "colab": {
          "base_uri": "https://localhost:8080/"
        },
        "id": "NTiQnxJO1oU9",
        "outputId": "43680740-87c8-4382-9d67-7286583e11a1"
      },
      "execution_count": null,
      "outputs": [
        {
          "output_type": "stream",
          "name": "stdout",
          "text": [
            "Counter({3: 3, 2: 2, 1: 1})\n",
            "[(3, 3)]\n",
            "[(3, 3), (2, 2)]\n"
          ]
        }
      ]
    },
    {
      "cell_type": "code",
      "source": [
        "counter1 = Counter('apple')\n",
        "counter2 = Counter('pear')\n",
        "print(counter1)\n",
        "print(counter2)\n",
        "print(counter1 & counter2)#교집합\n",
        "print(counter1 + counter2)#합집합"
      ],
      "metadata": {
        "colab": {
          "base_uri": "https://localhost:8080/"
        },
        "id": "3-RbN5An2EaF",
        "outputId": "3e39c8a5-9ed0-416e-f060-abaa4705917e"
      },
      "execution_count": null,
      "outputs": [
        {
          "output_type": "stream",
          "name": "stdout",
          "text": [
            "Counter({'p': 2, 'a': 1, 'l': 1, 'e': 1})\n",
            "Counter({'p': 1, 'e': 1, 'a': 1, 'r': 1})\n",
            "Counter({'a': 1, 'p': 1, 'e': 1})\n",
            "Counter({'p': 3, 'a': 2, 'e': 2, 'l': 1, 'r': 1})\n"
          ]
        }
      ]
    },
    {
      "cell_type": "code",
      "source": [
        "from collections import Counter\n",
        "\n",
        "def solution(X, Y):\n",
        "    count_x = Counter(X)\n",
        "    count_y = Counter(Y)\n",
        "    common = count_x & count_y\n",
        "    result = \"\".join([i * common[i] for i in sorted(common, reverse=True)])\n",
        "    if not result or result == '0' * len(result):\n",
        "        return '0' if '0' in result else '-1'\n",
        "    return result"
      ],
      "metadata": {
        "id": "Kx5ZIhyN2aj6"
      },
      "execution_count": null,
      "outputs": []
    },
    {
      "cell_type": "markdown",
      "source": [
        "## 문제12 요일구하기"
      ],
      "metadata": {
        "id": "sQK9RYMy3vsG"
      }
    },
    {
      "cell_type": "code",
      "source": [
        "import datetime\n",
        "\n",
        "def solution(a, b):\n",
        "    date = datetime.date(2016, a, b)\n",
        "    # print(date.weekday()) #해당날짜의 요일 반환 월요일 0 ,화요일 1,...\n",
        "    days =['MON','TUE', 'WED','THU','FRI','SAT','SUN']\n",
        "    return days[date.weekday()]"
      ],
      "metadata": {
        "id": "VXFaAD1Y3ywA"
      },
      "execution_count": null,
      "outputs": []
    },
    {
      "cell_type": "markdown",
      "source": [
        "# 자료구조와 알고리즘\n"
      ],
      "metadata": {
        "id": "TpDktF234bx0"
      }
    },
    {
      "cell_type": "markdown",
      "source": [
        "## 문제13 시저암호"
      ],
      "metadata": {
        "id": "Pi4GNv8t4egS"
      }
    },
    {
      "cell_type": "code",
      "source": [
        "# 문자를 아스키코드 변환 ord()\n",
        "print(ord('A'))\n",
        "print(ord('a'))"
      ],
      "metadata": {
        "colab": {
          "base_uri": "https://localhost:8080/"
        },
        "id": "S2InemgM4hSW",
        "outputId": "788d7e3d-6622-4890-df98-69190ecd6fdc"
      },
      "execution_count": null,
      "outputs": [
        {
          "output_type": "stream",
          "name": "stdout",
          "text": [
            "65\n",
            "97\n"
          ]
        }
      ]
    },
    {
      "cell_type": "code",
      "source": [
        "# 아스키코드를 문자로 변환 chr()\n",
        "print(chr(65))\n",
        "print(chr(97))"
      ],
      "metadata": {
        "colab": {
          "base_uri": "https://localhost:8080/"
        },
        "id": "NmvnNk8p469F",
        "outputId": "3b96d9b7-d69e-48ff-e407-5f47ed171c1f"
      },
      "execution_count": null,
      "outputs": [
        {
          "output_type": "stream",
          "name": "stdout",
          "text": [
            "A\n",
            "a\n"
          ]
        }
      ]
    },
    {
      "cell_type": "code",
      "source": [
        "def solution(s, n):\n",
        "    result = []\n",
        "    for c in s:\n",
        "        #대문자일때\n",
        "        if c.isupper():\n",
        "            cc = chr(((ord(c)- ord('A'))+n)%26 +ord('A'))\n",
        "            result.append(cc)\n",
        "        #소문자일때\n",
        "        elif c.islower():\n",
        "            cc = chr(((ord(c)- ord('a'))+n)%26 +ord('a'))\n",
        "            result.append(cc)\n",
        "        #공백일때\n",
        "        else:\n",
        "            result.append(c)\n",
        "    return \"\".join(result)"
      ],
      "metadata": {
        "id": "h16i2SXR5OSu"
      },
      "execution_count": null,
      "outputs": []
    },
    {
      "cell_type": "markdown",
      "source": [
        "## 문제12 햄버거만들기 (스택)"
      ],
      "metadata": {
        "id": "xXXCXUYI8EQ4"
      }
    },
    {
      "cell_type": "code",
      "source": [
        "def solution(ingredient):\n",
        "    stack = []\n",
        "    count = 0\n",
        "    pattern = [1, 2, 3, 1]\n",
        "    for item in ingredient:\n",
        "        stack.append(item)\n",
        "        if len(stack) >= 4 and stack[-4:] == pattern:\n",
        "            for _ in range(4):\n",
        "                stack.pop()\n",
        "            count += 1\n",
        "    return count"
      ],
      "metadata": {
        "id": "BPc4skFn8K6t"
      },
      "execution_count": null,
      "outputs": []
    },
    {
      "cell_type": "markdown",
      "source": [
        "## 문제13 튜플"
      ],
      "metadata": {
        "id": "AidU-XGS-elG"
      }
    },
    {
      "cell_type": "code",
      "source": [
        "def solution(s):\n",
        "    result = []\n",
        "    sets = sorted(s[2:-2].split('},{'), key=lambda x : len(x))\n",
        "    seen = set() # 처리되 숫자\n",
        "    # print(sets)\n",
        "    for subset in sets:\n",
        "        for n in subset.split(','):\n",
        "            if n  not in seen:\n",
        "                seen.add(n)\n",
        "                result.append(int(n))\n",
        "\n",
        "    return result"
      ],
      "metadata": {
        "id": "fFw6Co2f-i83"
      },
      "execution_count": null,
      "outputs": []
    },
    {
      "cell_type": "markdown",
      "source": [
        "## 문제15 옹알이: 문자열, 완전탐색"
      ],
      "metadata": {
        "id": "n-EY1YNb-Eg-"
      }
    },
    {
      "cell_type": "markdown",
      "source": [
        "### 완전탐색\n",
        "\n",
        "조합/순열  \n",
        "DFS(스택, 재귀)\n",
        "\n"
      ],
      "metadata": {
        "id": "Q4XFyDJ1BI-6"
      }
    },
    {
      "cell_type": "markdown",
      "source": [
        "#### itertools 모듈 사용"
      ],
      "metadata": {
        "id": "6jyS2UsABjpu"
      }
    },
    {
      "cell_type": "code",
      "source": [
        "from itertools import *\n",
        "\n",
        "dir(itertools)"
      ],
      "metadata": {
        "colab": {
          "base_uri": "https://localhost:8080/"
        },
        "id": "yOzRadXdBn2X",
        "outputId": "dabc33ae-81ff-448e-be67-ebe0f647e80e",
        "collapsed": true
      },
      "execution_count": null,
      "outputs": [
        {
          "output_type": "execute_result",
          "data": {
            "text/plain": [
              "['__doc__',\n",
              " '__loader__',\n",
              " '__name__',\n",
              " '__package__',\n",
              " '__spec__',\n",
              " '_grouper',\n",
              " '_tee',\n",
              " '_tee_dataobject',\n",
              " 'accumulate',\n",
              " 'chain',\n",
              " 'combinations',\n",
              " 'combinations_with_replacement',\n",
              " 'compress',\n",
              " 'count',\n",
              " 'cycle',\n",
              " 'dropwhile',\n",
              " 'filterfalse',\n",
              " 'groupby',\n",
              " 'islice',\n",
              " 'pairwise',\n",
              " 'permutations',\n",
              " 'product',\n",
              " 'repeat',\n",
              " 'starmap',\n",
              " 'takewhile',\n",
              " 'tee',\n",
              " 'zip_longest']"
            ]
          },
          "metadata": {},
          "execution_count": 8
        }
      ]
    },
    {
      "cell_type": "code",
      "source": [
        "help(combinations)"
      ],
      "metadata": {
        "id": "vSxUysbvB4lR"
      },
      "execution_count": null,
      "outputs": []
    },
    {
      "cell_type": "code",
      "source": [
        "# 조합 combinations m개중에 순서상관없에 n 뽑는거\n",
        "\n",
        "items = [\"apple\", 'banana', 'cherry','melon']\n",
        "\n",
        "# 순서에 상관없이 2개 뽑는 경우\n",
        "c = list(combinations(items,2))\n",
        "print(c)"
      ],
      "metadata": {
        "colab": {
          "base_uri": "https://localhost:8080/"
        },
        "id": "iHEaYr9fCPaF",
        "outputId": "776f9ded-48ae-4003-ea0b-a71f9ecd5580"
      },
      "execution_count": null,
      "outputs": [
        {
          "output_type": "stream",
          "name": "stdout",
          "text": [
            "[('apple', 'banana'), ('apple', 'cherry'), ('apple', 'melon'), ('banana', 'cherry'), ('banana', 'melon'), ('cherry', 'melon')]\n"
          ]
        }
      ]
    },
    {
      "cell_type": "code",
      "source": [
        "help(permutations)"
      ],
      "metadata": {
        "id": "2stwX64KC6-u"
      },
      "execution_count": null,
      "outputs": []
    },
    {
      "cell_type": "code",
      "source": [
        "#순열 permutations m개 중에 순서가 있는 n 뽑는거\n",
        "items = [\"apple\", 'banana', 'cherry','melon']\n",
        "\n",
        "# 순서있게 2개 뽑는 경우\n",
        "p = list(permutations(items,2))\n",
        "print(p)"
      ],
      "metadata": {
        "colab": {
          "base_uri": "https://localhost:8080/"
        },
        "id": "inYRQBG9DBys",
        "outputId": "77767ec2-5b5c-4cfb-beef-11e52c1aae13"
      },
      "execution_count": null,
      "outputs": [
        {
          "output_type": "stream",
          "name": "stdout",
          "text": [
            "[('apple', 'banana'), ('apple', 'cherry'), ('apple', 'melon'), ('banana', 'apple'), ('banana', 'cherry'), ('banana', 'melon'), ('cherry', 'apple'), ('cherry', 'banana'), ('cherry', 'melon'), ('melon', 'apple'), ('melon', 'banana'), ('melon', 'cherry')]\n"
          ]
        }
      ]
    },
    {
      "cell_type": "code",
      "source": [
        "from itertools import permutations\n",
        "\n",
        "def solution(babbling):\n",
        "    possibles = [\"aya\", \"ye\", \"woo\", \"ma\"]\n",
        "\n",
        "    # 가능한 모든 조합 생성 (순열)\n",
        "    valid_words = set()  # 중복 방지를 위해 집합 사용\n",
        "    for i in range(1, len(possibles) + 1):\n",
        "        for perm in permutations(possibles, i):\n",
        "            valid_words.add(\"\".join(perm))  # 순열을 단어로 변환하여 추가\n",
        "\n",
        "    # 주어진 단어와 비교하여 유효한 단어의 개수를 세기\n",
        "    count = 0\n",
        "    for word in babbling:\n",
        "        if word in valid_words:\n",
        "            count += 1\n",
        "\n",
        "    return count\n",
        "\n",
        "# 테스트 케이스\n",
        "print(solution([\"aya\", \"yee\", \"u\", \"maa\", \"wyeoo\"]))  # 예상 결과: 1\n",
        "print(solution([\"ayaye\", \"uuuma\", \"ye\", \"yemawoo\", \"ayaa\"]))  # 예상 결과: 3\n"
      ],
      "metadata": {
        "colab": {
          "base_uri": "https://localhost:8080/"
        },
        "id": "T2toz9FDRRXt",
        "outputId": "5f497f62-1a4c-4a77-f649-d3d5201b7a26"
      },
      "execution_count": null,
      "outputs": [
        {
          "output_type": "stream",
          "name": "stdout",
          "text": [
            "['aya', 'ye', 'woo', 'ma', 'ayaye', 'ayawoo', 'ayama', 'yeaya', 'yewoo', 'yema', 'wooaya', 'wooye', 'wooma', 'maaya', 'maye', 'mawoo', 'ayayewoo', 'ayayema', 'ayawooye', 'ayawooma', 'ayamaye', 'ayamawoo', 'yeayawoo', 'yeayama', 'yewooaya', 'yewooma', 'yemaaya', 'yemawoo', 'wooayaye', 'wooayama', 'wooyeaya', 'wooyema', 'woomaaya', 'woomaye', 'maayaye', 'maayawoo', 'mayeaya', 'mayewoo', 'mawooaya', 'mawooye', 'ayayewooma', 'ayayemawoo', 'ayawooyema', 'ayawoomaye', 'ayamayewoo', 'ayamawooye', 'yeayawooma', 'yeayamawoo', 'yewooayama', 'yewoomaaya', 'yemaayawoo', 'yemawooaya', 'wooayayema', 'wooayamaye', 'wooyeayama', 'wooyemaaya', 'woomaayaye', 'woomayeaya', 'maayayewoo', 'maayawooye', 'mayeayawoo', 'mayewooaya', 'mawooayaye', 'mawooyeaya']\n"
          ]
        },
        {
          "output_type": "execute_result",
          "data": {
            "text/plain": [
              "1"
            ]
          },
          "metadata": {},
          "execution_count": 20
        }
      ]
    },
    {
      "cell_type": "markdown",
      "source": [
        "### DFS(재귀)"
      ],
      "metadata": {
        "id": "47jsn0DrObWy"
      }
    },
    {
      "cell_type": "code",
      "source": [
        "def solution(babbling):\n",
        "    # 가능한 발음 조합\n",
        "    possibles = [\"aya\", \"ye\", \"woo\", \"ma\"]\n",
        "    valid_words = set()  # 유효한 단어를 저장할 집합\n",
        "\n",
        "    def dfs(current_word):\n",
        "        \"\"\"\n",
        "        DFS를 사용하여 가능한 발음 조합을 생성.\n",
        "        \"\"\"\n",
        "        # 단어가 길면 종료 (10자 이상은 불필요한 조합) [\"aya\", \"ye\", \"woo\", \"ma\"] 조합하면 10개\n",
        "        if len(current_word) > 10:\n",
        "            return\n",
        "\n",
        "        # 유효한 단어를 집합에 추가\n",
        "        valid_words.add(current_word)\n",
        "\n",
        "        # 가능한 발음을 하나씩 추가하여 새로운 단어 생성\n",
        "        for sound in possibles:\n",
        "            dfs(current_word + sound)\n",
        "\n",
        "    # DFS 시작: 빈 문자열에서 시작\n",
        "    dfs(\"\")\n",
        "\n",
        "    # 주어진 단어 중 유효한 단어의 개수를 세기\n",
        "    count = 0\n",
        "    for word in babbling:\n",
        "        if word in valid_words:\n",
        "            count += 1\n",
        "\n",
        "    return count\n",
        "\n",
        "\n",
        "# 테스트 케이스\n",
        "print(solution([\"aya\", \"yee\", \"u\", \"maa\", \"wyeoo\"]))  # 예상 결과: 1\n",
        "print(solution([\"ayaye\", \"uuuma\", \"ye\", \"yemawoo\", \"ayaa\"]))  # 예상 결과: 3\n"
      ],
      "metadata": {
        "id": "8i9Tuqa8dkvl"
      },
      "execution_count": null,
      "outputs": []
    },
    {
      "cell_type": "markdown",
      "source": [
        "### 정규표현식\n",
        "\n",
        "https://wikidocs.net/4309\n",
        "\n",
        "문자열에서 특정한 패턴을 찾거나, 일치하는 부분을 추출하거나 대체 할때 사용"
      ],
      "metadata": {
        "id": "kp9_hCkHBMHA"
      }
    },
    {
      "cell_type": "markdown",
      "source": [
        "![image.png](data:image/png;base64,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)"
      ],
      "metadata": {
        "id": "OKH4OtchJhZB"
      }
    },
    {
      "cell_type": "markdown",
      "source": [
        "r'^(aya|ye|woo|ma)+$'\n",
        "\n",
        "- ^: 이 기호는 문자열의 시작을 나타냅니다. 즉, 패턴 매칭이 문자열의 시작부터 일어나야 함을 의미합니다.\n",
        "- (aya|ye|woo|ma): 괄호는 캡처 그룹을 형성하며, 파이프(|)는 여러 대안 중 하나를 선택하는 OR 조건을 나타냅니다. 이 경우 - \"aya\", \"ye\", \"woo\", \"ma\" 중 하나와 일치해야 합니다.\n",
        "- +: 이 메타문자는 바로 앞에 있는 요소가 하나 이상 반복될 수 있음을 나타냅니다. 여기서는 \"aya\", \"ye\", \"woo\", \"ma\" 중 하나 또는 그 이상의 조합이 반복되어 나타날 수 있음을 의미합니다.\n",
        "- $: 문자열의 끝을 나타냅니다. 즉, 패턴 매칭이 문자열의 끝에서 완료되어야 함을 의미합니다."
      ],
      "metadata": {
        "id": "oUQTrcfdVn3D"
      }
    },
    {
      "cell_type": "markdown",
      "source": [
        "re 모듈은 파이썬에서 정규 표현식(Regular Expressions)을 지원하기 위한 표준 라이브러리 모듈"
      ],
      "metadata": {
        "id": "xZs1q9sZPyKR"
      }
    },
    {
      "cell_type": "markdown",
      "source": [
        "![image.png](data:image/png;base64,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)"
      ],
      "metadata": {
        "id": "3_eZ_Q_sJuL5"
      }
    },
    {
      "cell_type": "code",
      "source": [
        "import re\n",
        "\n",
        "def solution(babbling):\n",
        "    possibles = [\"aya\", \"ye\", \"woo\", \"ma\"]  # 가능한 발음 목록을 리스트로 정의\n",
        "    count = 0  # 유효한 발음 조합의 수를 세기 위한 카운터\n",
        "\n",
        "    # 정규 표현식 패턴 생성: 'aya', 'ye', 'woo', 'ma' 중 하나 이상으로만 이루어진 문자열과 일치\n",
        "    pattern = re.compile(r'^(aya|ye|woo|ma)+$')\n",
        "\n",
        "    # 주어진 단어 배열 babbling을 순회\n",
        "    for word in babbling:\n",
        "        if pattern.match(word):  # 현재 단어가 정규표현식 패턴과 일치하는지 확인\n",
        "            for p in possibles:\n",
        "                if word.count(p) > 1:  # 각 발음이 단어 내에서 한 번 이상 사용되었는지 검사\n",
        "                    break  # 발음이 한 번 이상 사용되면 루프 탈출\n",
        "            else:  # 발음이 모두 한 번만 사용되었을 경우\n",
        "                count += 1  # 카운트 증가\n",
        "    return count  # 최종 유효한 발음 조합의 수 반환\n",
        "\n",
        "solution([\"aya\", \"yee\", \"u\", \"maa\", \"wyeoo\"])\n",
        "\n",
        "solution([\"ayaye\", \"uuuma\", \"ye\", \"yemawoo\", \"ayaa\"])"
      ],
      "metadata": {
        "id": "IARraAPnV-yT",
        "colab": {
          "base_uri": "https://localhost:8080/"
        },
        "outputId": "5cc83bf6-3177-4735-dd63-2bafe5cad4a0"
      },
      "execution_count": null,
      "outputs": [
        {
          "output_type": "execute_result",
          "data": {
            "text/plain": [
              "3"
            ]
          },
          "metadata": {},
          "execution_count": 12
        }
      ]
    },
    {
      "cell_type": "markdown",
      "source": [
        "- for-else 구문의 작동 원리\n",
        "    - for 루프: 주어진 시퀀스(리스트, 튜플 등)를 순회하면서 반복적으로 코드 블록을 실행합니다.\n",
        "    - else 블록: for 루프가 시퀀스를 완전히 순회하고 끝까지 반복된 후에 실행됩니다. 단, 중요한 점은 for 루프가 break문에 의해 중단되지 않았을 경우에만 else 블록이 실행된다는 것입니다."
      ],
      "metadata": {
        "id": "ooJtOJ8FMH0K"
      }
    },
    {
      "cell_type": "markdown",
      "source": [
        "### 간단한 방식"
      ],
      "metadata": {
        "id": "9302OFXNNAQ1"
      }
    },
    {
      "cell_type": "code",
      "source": [
        "def solution(babbling):\n",
        "    sounds = [\"aya\", \"ye\", \"woo\", \"ma\"]  # 가능한 발음 리스트\n",
        "    count = 0  # 유효한 단어의 수를 세는 카운터\n",
        "\n",
        "    for word in babbling:  # 주어진 모든 단어에 대해 검사\n",
        "\n",
        "        for sound in sounds:\n",
        "            word = word.replace(sound, \" \")  # 가능한 발음을 공백으로 대체\n",
        "\n",
        "        if word.strip() == \"\":  # 모든 발음이 공백으로 대체된 경우\n",
        "            count += 1  # 유효한 단어로 간주하여 카운터 증가\n",
        "\n",
        "    return count  # 유효한 발음 조합의 총 수 반환\n",
        "\n",
        "# 예시 호출\n",
        "print(solution([\"aya\", \"yee\", \"u\", \"maa\", \"wyeoo\"]))  # 예상 결과: 1\n",
        "print(solution([\"ayaye\", \"uuuma\", \"ye\", \"yemawoo\", \"ayaa\"]))  # 예상 결과: 3\n"
      ],
      "metadata": {
        "id": "nTjUpmTENFM4"
      },
      "execution_count": null,
      "outputs": []
    },
    {
      "cell_type": "markdown",
      "source": [
        "## 문제16 디펜스게임: Lv2. 우선순위큐, 그리디"
      ],
      "metadata": {
        "id": "tOcAthUmdEMI"
      }
    },
    {
      "cell_type": "markdown",
      "source": [
        "- 문제의 주된 목적은 주어진 병사와 무적권을 사용하여 가능한 많은 라운드를 버티는 것으로 우선순위큐와 그리디 사용"
      ],
      "metadata": {
        "id": "5tbsY47aTnKs"
      }
    },
    {
      "cell_type": "markdown",
      "source": [
        "\n",
        "알고리즘 개요:\n",
        "1. 초기 조건 확인:\n",
        "\n",
        "    만약 enemy 배열의 길이가 무적권(k)보다 작거나 같다면, 모든 라운드를 무적권만 사용하여 처리할 수 있으므로 바로 enemy 배열의 길이를 반환합니다.\n",
        "\n",
        "2. 우선순위 큐 초기화:\n",
        "\n",
        "    처음 k개의 라운드에 대해서 무적권을 사용합니다. 이 때, 각 라운드의 적의 수를 우선순위 큐에 추가합니다.\n",
        "\n",
        "3. 병사 사용:\n",
        "\n",
        "    - k 이후의 라운드에서는, 적의 수를 계속해서 우선순위 큐에 추가하고, 큐에서 가장 작은 값을(가장 적은 병사가 필요한 라운드) 빼서 현재 보유한 병사(n)에서 차감합니다.\n",
        "    - 이 과정에서 병사 수가 음수가 되면, 그 시점까지 처리한 라운드 수(answer)를 반환합니다. 즉, 더 이상 병사로 적을 막을 수 없는 상태입니다.\n",
        "\n",
        "4. 최종 라운드 처리:\n",
        "\n",
        "    - 만약 모든 enemy 라운드를 병사 수 차감 없이 처리할 수 있다면, 총 라운드 수인 answer (초기값은 k)에 나머지 성공적으로 처리한 라운드 수를 추가하여 반환합니다.\n",
        "\n",
        "- 알고리즘 세부 구현:\n",
        "\n",
        "    - 우선순위 큐(heapq): Python의 힙은 최소 힙으로 구현되어 있으므로, 가장 작은 요소가 먼저 나옵니다. 이는 병사가 가장 적게 필요한 라운드부터 처리하도록 돕습니다.\n",
        "    - 병사 차감 로직: 가장 적은 병사가 필요한 라운드부터 차례로 병사를 사용합니다. 만약 어떤 시점에서 병사가 부족하게 되면, 그 시점까지 처리한 라운드 수를 반환합니다."
      ],
      "metadata": {
        "id": "CoZP5fjbdHMy"
      }
    },
    {
      "cell_type": "markdown",
      "source": [
        "### 우선순위큐, 그리디"
      ],
      "metadata": {
        "id": "UCEN_v6HTJYU"
      }
    },
    {
      "cell_type": "code",
      "source": [
        "import heapq\n",
        "def solution(n, k, enemy):\n",
        "    pq = [] # 우선순위 큐\n",
        "\n",
        "    # 라운드가 무적권수보다 작으면 모든 라운다 다 통과\n",
        "    if len(enemy) <= k:\n",
        "        return len(enemy)\n",
        "\n",
        "    # 무적권으로 처리할 수 있는 횟수\n",
        "    answer = k\n",
        "    for i in range(k):\n",
        "        heapq.heappush(pq, enemy[i])\n",
        "    # 나머지 적은 보유한 병사로 처리\n",
        "    # 그리디: 하나씩 큐에 집어 넣고 현재 순간까지 가장 적은 병사수를 구해서 보유한 병사로 처리\n",
        "    for i in range(k, len(enemy)):\n",
        "        heapq.heappush(pq, enemy[i])\n",
        "        n -= heapq.heappop(pq)\n",
        "        if n < 0 :\n",
        "            return answer\n",
        "        else:\n",
        "            answer += 1\n",
        "    return answer"
      ],
      "metadata": {
        "id": "Z6OvhWvTdLBc"
      },
      "execution_count": null,
      "outputs": []
    },
    {
      "cell_type": "markdown",
      "source": [
        "## 문제17 구명보트- LV2 그리디"
      ],
      "metadata": {
        "id": "1uCriwDzmskp"
      }
    },
    {
      "cell_type": "markdown",
      "source": [
        "- 구명보트의 무게 제한과 주어진 사람들의 몸무게 배열을 이용하여 최소한의 구명보트 사용 개수를 찾는 최적화 문제입니다. 각 보트는 최대 2명까지 태울 수 있고, 무게 제한을 초과할 수 없습니다."
      ],
      "metadata": {
        "id": "H8DReM9ngBo5"
      }
    },
    {
      "cell_type": "markdown",
      "source": [
        "- 문제 해결 방법\n",
        "\n",
        "    문제를 효율적으로 해결하기 위해 그리디 알고리즘(Greedy Algorithm)을 적용할 수 있습니다. 아이디어는 다음과 같습니다:\n",
        "\n",
        "1. 정렬: 사람들의 몸무게를 정렬하여 가장 가벼운 사람과 가장 무거운 사람을 쉽게 비교할 수 있게 합니다.\n",
        "2. 투 포인터: 배열의 양 끝에서 시작하는 두 포인터(left, right)를 사용하여 무게 제한을 고려하며 보트에 탈 사람을 결정합니다.\n",
        "가장 무거운 사람(right 포인터가 가리키는 사람)과 가장 가벼운 사람(left 포인터가 가리키는 사람)을 함께 태울 수 있는지 검사합니다.\n",
        "두 사람의 무게 합이 무게 제한보다 작거나 같다면, 두 사람을 함께 보내고 포인터를 조정합니다.\n",
        "그렇지 않다면 가장 무거운 사람만 보내고 right 포인터만 이동합니다.\n",
        "3. 카운터: 각 결정 때마다 보트의 수를 세어 최종적으로 필요한 구명보트의 개수를 계산합니다."
      ],
      "metadata": {
        "id": "AYGuoA4IhWyO"
      }
    },
    {
      "cell_type": "code",
      "source": [
        "def solution(people, limit):\n",
        "    people.sort()  # 사람들의 몸무게를 오름차순으로 정렬\n",
        "    left, right = 0, len(people) - 1  # 투 포인터 초기화: left는 가장 가벼운 사람, right는 가장 무거운 사람\n",
        "    boats = 0  # 사용된 보트 수\n",
        "\n",
        "    while left <= right:  # 두 포인터가 만나거나 교차할 때까지 반복\n",
        "        if people[left] + people[right] <= limit:\n",
        "            left += 1  # 가벼운 사람을 태웠으므로 left 포인터 이동\n",
        "\n",
        "        right -= 1 # 무거운 사람은 항상 보트를 타야 하므로 right 포인터는 항상 이동\n",
        "        boats += 1  # 보트 하나 추가\n",
        "\n",
        "    return boats  # 필요한 보트의 최소 개수 반환\n",
        "\n",
        "# 예제 실행\n",
        "print(solution([70, 50, 80, 50], 100))  # 출력: 3\n",
        "print(solution([70, 80, 50], 100))       # 출력: 3\n"
      ],
      "metadata": {
        "id": "JYYTseySgabq"
      },
      "execution_count": null,
      "outputs": []
    },
    {
      "cell_type": "markdown",
      "source": [
        "## 문제17 괄호회전하기-Lv2 스택"
      ],
      "metadata": {
        "id": "8mgMUUdgnNMD"
      }
    },
    {
      "cell_type": "markdown",
      "source": [
        "- 문자열이 주어지고, 이 문자열을 회전시키면서 \"올바른 괄호 문자열\"이 되는 경우의 수를 찾는 것, 올바른 괄호 문자열  판별 방법은 스택 사용"
      ],
      "metadata": {
        "id": "fpHA6PEcjrSB"
      }
    },
    {
      "cell_type": "markdown",
      "source": [
        "1. 원래 문자열을 검사하고, 올바른 괄호 문자열인지 판단합니다.  \n",
        "    - 여는 괄호('(', '{', '[')가 나오면 스택에 푸시합니다.  \n",
        "    - 닫는 괄호(')', '}', ']')가 나오면 스택에서 하나를 팝하여 매칭되는 괄호인지 확인합니다.: 스택이 비어 있거나 매칭되지 않으면 괄호 문자열이 올바르지 않음을 의미합니다.  \n",
        "    - 모든 문자 처리 후 스택이 비어 있어야 올바른 괄호 문자열입니다. 스택에 남아 있는 항목이 있으면 짝이 맞지 않는 괄호가 있음을 의미합니다.  \n",
        "\n",
        "2. 1부터 문자열 길이-1까지 각각의 회전을 시도하고, 각 회전에 대해 올바른 괄호 문자열인지 판단합니다.  \n",
        "    - i번 회전은 문자열 s[i:] + s[:i]로 표현\n",
        "3. 올바른 괄호 문자열인 경우의 수를 세어 결과를 반환합니다.  "
      ],
      "metadata": {
        "id": "xkWX1pkCj5Fu"
      }
    },
    {
      "cell_type": "code",
      "source": [
        "# 괄호 유효성 검사 함수 정의\n",
        "# 여는 괄호가 나오면 스택 넣고, 닫는 괄호가 나오면 스택 빼고 쌍이 맞는지 확인\n",
        "def is_valid(s):\n",
        "    stack = []\n",
        "    # 닫는 괄호 키, 여는 괄호 값\n",
        "    b_pairs = {')':'(','}':'{',']':'['}\n",
        "    for char in s:\n",
        "        if char in b_pairs.values():# 여는 괄호\n",
        "            stack.append(char)\n",
        "        elif char in b_pairs.keys():# 닫는 괄호\n",
        "            if stack == [] or stack.pop() != b_pairs[char]:\n",
        "                return False\n",
        "        else:\n",
        "             continue\n",
        "    return stack == [] # len(stack) == 0 # 다 체크 한후 스택이 비었으면 True\n",
        "\n",
        "def solution(s):\n",
        "    count = 0\n",
        "    for i in range(len(s)):\n",
        "        #회전된 문자열\n",
        "        rotated_s = s[i:]+s[:i]\n",
        "        if is_valid(rotated_s) :\n",
        "            count += 1\n",
        "    return count"
      ],
      "metadata": {
        "id": "9sc7qEqus8x8"
      },
      "execution_count": null,
      "outputs": []
    },
    {
      "cell_type": "markdown",
      "source": [
        "## 문제18 프로세스 - Lv2. 큐"
      ],
      "metadata": {
        "id": "3--LglkSw-zN"
      }
    },
    {
      "cell_type": "markdown",
      "source": [
        "- 주어진 우선순위 목록을 바탕으로 특정 프로세스가 몇 번째로 실행되는지 찾는 것"
      ],
      "metadata": {
        "id": "Y_yQE-8By8Dt"
      }
    },
    {
      "cell_type": "markdown",
      "source": [
        "- 알고리즘\n",
        "\n",
        "    1. 우선순위와 원래 인덱스 정보를 포함하는 튜플로 큐를 초기화합니다.\n",
        "    2. 큐에서 프로세스를 하나씩 꺼내어, 큐에 남아 있는 프로세스 중 현재 꺼낸 프로세스보다 높은 우선순위가 있는지 검사합니다.\n",
        "    3. 높은 우선순위가 있다면, 현재 프로세스를 큐의 뒤로 보냅니다.\n",
        "    4. 그렇지 않다면, 현재 프로세스를 실행(즉, 큐에서 제거)하고 실행 순서를 기록합니다.\n",
        "    5. 목표로 하는 프로세스가 실행될 때까지 위 과정을 반복하고, 실행 순서를 반환합니다."
      ],
      "metadata": {
        "id": "f7ha1imny9LS"
      }
    },
    {
      "cell_type": "markdown",
      "source": [
        "- 사용할 자료구조\n",
        "    - 큐: 파이썬에서는 collections.deque를 사용하여 효율적인 큐 연산을 수행할 수 있습니다. 이 문제에서는 큐를 사용하여 프로세스를 관리하고, 조건에 맞지 않는 프로세스를 큐의 끝으로 다시 넣습니다.\n",
        "    - 튜플: 각 프로세스를 (우선순위, 인덱스) 형태의 튜플로 관리하여, 어떤 프로세스가 목표 프로세스인지 추적할 수 있습니다."
      ],
      "metadata": {
        "id": "LpI3JaHOzIUf"
      }
    },
    {
      "cell_type": "markdown",
      "source": [
        "### deque 양방향 큐 사용"
      ],
      "metadata": {
        "id": "pYf_OxFK3U8c"
      }
    },
    {
      "cell_type": "markdown",
      "source": [
        "데크가 리스트보다 추가 삽입할때 시간 효율 더 좋음\n",
        "\n"
      ],
      "metadata": {
        "id": "62EDIHde4SmK"
      }
    },
    {
      "cell_type": "code",
      "source": [
        "from collections import deque\n",
        "\n",
        "def solution(priorities, location):\n",
        "    # 인덱스를 이름으로, 인덱스와 큐의 튜플을 큐에 넣음\n",
        "    queue = deque([(i, p) for i, p in enumerate(priorities)])\n",
        "    answer = 0\n",
        "\n",
        "    while queue:\n",
        "        cur = queue.popleft()\n",
        "\n",
        "        # 높은 우선순위를 가진 원소가 있는지 확인하기 위한 플래그\n",
        "        found_higher_priority = False\n",
        "\n",
        "        # 큐의 모든 원소를 반복하여 현재 원소보다 높은 우선순위를 검사\n",
        "        for q in queue:\n",
        "            if cur[1] < q[1]:\n",
        "                found_higher_priority = True\n",
        "                break\n",
        "\n",
        "        if found_higher_priority:\n",
        "            # 현재 원소보다 높은 우선순위의 원소가 있다면 큐의 끝에 다시 추가\n",
        "            queue.append(cur)\n",
        "        else:\n",
        "            # 없다면 현재 원소를 실행하고 실행 순서 카운트\n",
        "            answer += 1\n",
        "            # 현재 실행된 원소가 타겟 위치의 원소라면\n",
        "            if cur[0] == location:\n",
        "                return answer\n",
        "\n",
        "# 예제 실행\n",
        "print(solution([2, 1, 3, 2], 2))  # 1\n",
        "print(solution([1, 1, 9, 1, 1, 1], 0))  # 5"
      ],
      "metadata": {
        "id": "TSDg2Xx8zzVu"
      },
      "execution_count": null,
      "outputs": []
    },
    {
      "cell_type": "markdown",
      "source": [
        "### any() / all()\n",
        "\n",
        "- any(): 반복가능한 객체 중에서 모든 항목이 하나라도 참이면 참\n",
        "- all():반복가능한 객체 중에서 모든 항목이 모두  참이면 참"
      ],
      "metadata": {
        "id": "r_tuCTzO2e38"
      }
    },
    {
      "cell_type": "code",
      "source": [
        "from collections import deque\n",
        "\n",
        "def solution(priorities, location):\n",
        "    #프로세스(인덱스)와 우선순위를 튜플로 묶어 큐 저장\n",
        "    # 인덱스를 이름으로\n",
        "    queue = deque([(i, p) for i, p in enumerate(priorities)])\n",
        "    answer = 0\n",
        "    while queue:\n",
        "        cur = queue.popleft()\n",
        "        if any(cur[1] < q[1] for q in queue):\n",
        "            queue.append(cur)\n",
        "        else:\n",
        "            answer += 1\n",
        "            if cur[0] == location:\n",
        "                return answer\n",
        "\n",
        "# 예제 실행\n",
        "print(solution([2, 1, 3, 2], 2))  # 1\n",
        "print(solution([1, 1, 9, 1, 1, 1], 0))  # 5"
      ],
      "metadata": {
        "id": "0GdM9LIy3cy0"
      },
      "execution_count": null,
      "outputs": []
    },
    {
      "cell_type": "markdown",
      "source": [
        "### 리스트를 큐"
      ],
      "metadata": {
        "id": "k5pd-FAS3Q_9"
      }
    },
    {
      "cell_type": "code",
      "source": [
        "def solution(priorities, location):\n",
        "    #프로세스(인덱스)와 우선순위를 튜플로 묶어 큐 저장\n",
        "    queue = [(i, p) for i, p in enumerate(priorities)]\n",
        "    answer = 0\n",
        "    while queue:\n",
        "        cur = queue.pop(0)\n",
        "        # hp_exist = False\n",
        "        # for q in queue:\n",
        "        #     if cur[1] < q[1]:\n",
        "        #         hp_exist = True\n",
        "        #         break\n",
        "        # if hp_exist:\n",
        "        #     queue.append(cur)\n",
        "        if any(cur[1] < q[1] for q in queue):\n",
        "            queue.append(cur)\n",
        "        else:\n",
        "            answer += 1\n",
        "            if cur[0] == location:\n",
        "                return answer\n"
      ],
      "metadata": {
        "id": "2OO9va8517nR"
      },
      "execution_count": null,
      "outputs": []
    },
    {
      "cell_type": "markdown",
      "source": [
        "## 문제19. 개인정보 수집 유효기간- Lv.1 배열, 해시, 문자열\n"
      ],
      "metadata": {
        "id": "ZaLhzgbp4wPZ"
      }
    },
    {
      "cell_type": "markdown",
      "source": [
        "- 날짜 계산과 데이터 매핑을 통해 유효기간을 넘어선 개인정보를 식별하고 파기 목록을 생성하는 것"
      ],
      "metadata": {
        "id": "Q3b0MSiw4CFb"
      }
    },
    {
      "cell_type": "markdown",
      "source": [
        "- 알고리즘\n",
        "1. 날짜 계산: 파이썬의 datetime 모듈을 활용하여 날짜 계산을 수행\n",
        "2. 유효기간 확인: 각 개인정보의 수집일자에 해당 약관의 유효기간을 더해 유효기간이 만료되었는지 확인합니다.\n",
        "3. 파기 목록 생성: 유효기간이 지난 개인정보의 인덱스를 저장합니다.\n",
        "\n",
        "- 자료구조\n",
        "    - 딕셔너리 (terms_dict): 약관별 유효기간을 저장하여 빠르게 접근할 수 있도록 합니다. 예를 들어, 'A': 6, 'B': 12 등으로 매핑됩니다.\n",
        "    - 리스트: 파기해야 할 정보의 인덱스를 저장합니다."
      ],
      "metadata": {
        "id": "j98421X64Dud"
      }
    },
    {
      "cell_type": "code",
      "source": [
        "# 날짜 문자열을 연, 월, 일로 구성된 튜플로 변환하는 함수\n",
        "def date_con(date_str):\n",
        "    # 'YYYY.MM.DD' 형식의 문자열을 '.'으로 나누어 연, 월, 일 부분을 정수로 변환\n",
        "    yyyy, mm, dd = map(int, date_str.split('.'))\n",
        "    return yyyy, mm, dd\n",
        "\n",
        "# 주어진 날짜에 몇 개월을 더하는 함수\n",
        "def add_month(date, month):\n",
        "    yyyy, mm, dd = date  # 날짜 튜플을 연, 월, 일로 분해\n",
        "    mm += month  # 월에 입력받은 개월 수를 더함\n",
        "    while mm > 12:  # 월 수가 12를 초과하면 연도를 증가\n",
        "        mm -= 12\n",
        "        yyyy += 1\n",
        "    return yyyy, mm, dd  # 수정된 날짜 튜플 반환\n",
        "\n",
        "# 주어진 조건을 바탕으로 만료된 개인정보를 찾는 함수\n",
        "def solution(today, terms, privacies):\n",
        "    today = date_con(today)  # 오늘 날짜를 튜플로 변환\n",
        "\n",
        "    # 약관 종류와 유효기간을 저장할 딕셔너리 생성\n",
        "    term_dict = {}\n",
        "    for term in terms:\n",
        "        t_type, duration = term.split()  # 약관 종류와 기간을 분리\n",
        "        term_dict[t_type] = int(duration)  # 약관 종류를 키로, 유효기간을 값으로 딕셔너리에 저장\n",
        "    print(term_dict)\n",
        "    expires = []  # 만료된 정보의 인덱스를 저장할 리스트\n",
        "\n",
        "    # 개인정보 목록 순회\n",
        "    for i, privacy in enumerate(privacies):\n",
        "        col_date, t_type = privacy.split()  # 개인정보 수집 날짜와 약관 종류 분리\n",
        "        col_date = date_con(col_date)  # 수집 날짜를 튜플로 변환\n",
        "        t_dur_mm = term_dict[t_type]  # 해당 약관의 유효기간을 정수로 변환\n",
        "\n",
        "        # 만료 날짜 계산\n",
        "        expire_date = add_month(col_date, t_dur_mm)\n",
        "\n",
        "        # 만료 날짜가 오늘 날짜 이전인 경우, 리스트에 추가\n",
        "        if expire_date <= today:\n",
        "            expires.append(i + 1)  # 리스트에는 인덱스가 1부터 시작하도록 설정\n",
        "\n",
        "    return expires  # 만료된 개인정보의 인덱스 리스트 반환\n",
        "\n",
        "# 예시 실행\n",
        "today = \"2022.05.19\"\n",
        "terms = [\"A 6\", \"B 12\", \"C 3\"]\n",
        "privacies = [\"2021.05.02 A\", \"2021.07.01 B\", \"2022.02.19 C\", \"2022.02.20 C\"]\n",
        "print(solution(today, terms, privacies))  # [1, 3]\n"
      ],
      "metadata": {
        "id": "sAoxdolTBqfs",
        "colab": {
          "base_uri": "https://localhost:8080/"
        },
        "outputId": "041cdb96-4174-42ab-c5e1-0ebb1ad4c1f7"
      },
      "execution_count": null,
      "outputs": [
        {
          "output_type": "stream",
          "name": "stdout",
          "text": [
            "{'A': 6, 'B': 12, 'C': 3}\n",
            "[1, 3]\n"
          ]
        }
      ]
    },
    {
      "cell_type": "markdown",
      "source": [
        "## 문제20 타켓넘버: Lv2.탐색(DFS)\n",
        "\n"
      ],
      "metadata": {
        "id": "ktF_bfWDA11N"
      }
    },
    {
      "cell_type": "markdown",
      "source": [
        "- 주어진 숫자 배열을 사용하여 특정 타겟 넘버를 만들 수 있는 모든 가능한 조합의 수를 찾는 것입니다.\n",
        "- 이를 해결하기 위한 가장 적합한 방법은 재귀적인 백트래킹이며, 이는 각 숫자에 대해 더하거나 빼는 두 가지 선택을 재귀적으로 탐색하도록 구현할 수 있습니다."
      ],
      "metadata": {
        "id": "v65-uV9N68eT"
      }
    },
    {
      "cell_type": "markdown",
      "source": [
        "- 알고리즘\n",
        "    1. 재귀 함수 정의: 각 단계에서 숫자를 더하거나 빼는 선택을 하고, 다음 숫자로 이동합니다.\n",
        "    2. 기저 조건 설정: 모든 숫자를 사용한 뒤의 합계가 타겟 넘버와 일치하면 카운트를 증가시킵니다.\n",
        "    3. 백트래킹 실행: 각 단계에서 두 가지 선택을 하고, 선택을 되돌려가며 모든 가능한 조합을 탐색합니다."
      ],
      "metadata": {
        "id": "f3u-dYSmLBRC"
      }
    },
    {
      "cell_type": "markdown",
      "source": [
        "### 재귀"
      ],
      "metadata": {
        "id": "a1W_tqG_uOJO"
      }
    },
    {
      "cell_type": "markdown",
      "source": [
        "- global 키워드\n",
        "global 키워드는 함수 내부에서 전역 변수(모듈 레벨의 변수)를 수정\n",
        "- nonlocal 키워드는 중첩된 함수(즉, 함수 내부의 함수)에서 지역 변수의 범위를 확장할 때 사용됩니다. nonlocal은 가장 가까운 외부 함수의 변수를 참조"
      ],
      "metadata": {
        "id": "P0Lp5AKYqzDZ"
      }
    },
    {
      "cell_type": "code",
      "source": [
        "def solution(numbers, target):\n",
        "    # 타겟 넘버를 만드는 조합의 수를 세는 함수\n",
        "    def dfs(index, current_sum):\n",
        "        # 재귀의 끝에 도달했을 때, 현재 합계가 타겟 넘버와 같은지 확인\n",
        "        if index == len(numbers):\n",
        "            if current_sum == target:\n",
        "                nonlocal count\n",
        "                count += 1\n",
        "            return\n",
        "\n",
        "        # 현재 숫자를 더하는 경우\n",
        "        dfs(index + 1, current_sum + numbers[index])\n",
        "        # 현재 숫자를 빼는 경우\n",
        "        dfs(index + 1, current_sum - numbers[index])\n",
        "\n",
        "    count = 0\n",
        "    dfs(0, 0)  # DFS 탐색 시작 index, current_sum\n",
        "    return count\n",
        "\n",
        "# 예제 실행\n",
        "print(solution([1, 1, 1, 1, 1], 3))  # 출력: 5\n",
        "print(solution([4, 1, 2, 1], 4))     # 출력: 2\n"
      ],
      "metadata": {
        "id": "FzrOJMzn68vG",
        "colab": {
          "base_uri": "https://localhost:8080/"
        },
        "collapsed": true,
        "outputId": "8dbd846e-a72b-4692-e8d7-030c8a6cbc01"
      },
      "execution_count": null,
      "outputs": [
        {
          "output_type": "stream",
          "name": "stdout",
          "text": [
            "5\n",
            "2\n"
          ]
        }
      ]
    },
    {
      "cell_type": "markdown",
      "source": [
        "- dfs 함수는 현재 인덱스와 현재까지의 합계를 매개변수로 받습니다.\n",
        "- 기저 조건에서는 모든 숫자를 처리했을 때 합계가 타겟 넘버와 같은지 확인하고, 카운트를 증가시킵니다.\n",
        "- 각 숫자에 대해 두 가지 선택(더하기, 빼기)을 재귀적으로 수행합니다.\n",
        "- nonlocal 키워드를 사용하여 외부 스코프의 count 변수를 수정합니다."
      ],
      "metadata": {
        "id": "hulQmttGM1rS"
      }
    },
    {
      "cell_type": "markdown",
      "source": [
        "### itertools.product"
      ],
      "metadata": {
        "id": "xKvKDKuKuTcJ"
      }
    },
    {
      "cell_type": "code",
      "source": [
        "from itertools import product\n",
        "# 두 리스트의 데카르트 곱 생성해주는 모듈\n",
        "# 데카르트 곱(Cartesian Product)은 집합론에서 사용되는 개념으로,\n",
        "# 두 개 이상의 집합에서 원소를 선택하여 가능한 모든 조합을 만드는 것을 의미\n",
        "list1 = [1, 2]\n",
        "list2 = ['A', 'B']\n",
        "list3 = ['가', '나']\n",
        "product_result = product(list1, list2, list3)\n",
        "\n",
        "# 출력 결과 보기\n",
        "for item in product_result:\n",
        "    print(item)\n"
      ],
      "metadata": {
        "colab": {
          "base_uri": "https://localhost:8080/"
        },
        "id": "JkvAD_3GugXv",
        "outputId": "ca22c88a-fa5d-4831-e00d-8101e64d678e"
      },
      "execution_count": null,
      "outputs": [
        {
          "output_type": "stream",
          "name": "stdout",
          "text": [
            "(1, 'A', '가')\n",
            "(1, 'A', '나')\n",
            "(1, 'B', '가')\n",
            "(1, 'B', '나')\n",
            "(2, 'A', '가')\n",
            "(2, 'A', '나')\n",
            "(2, 'B', '가')\n",
            "(2, 'B', '나')\n"
          ]
        }
      ]
    },
    {
      "cell_type": "markdown",
      "source": [],
      "metadata": {
        "id": "MLkI3eE0upTn"
      }
    },
    {
      "cell_type": "code",
      "source": [
        "numbers = [1, 1, 1, 1, 1]\n",
        "c_list = [(+num, -num) for num in numbers]\n",
        "print(c_list)"
      ],
      "metadata": {
        "colab": {
          "base_uri": "https://localhost:8080/"
        },
        "id": "Vux4OtLEutCc",
        "outputId": "9f61943e-6b73-471b-8003-6ff4f6c0f20e"
      },
      "execution_count": null,
      "outputs": [
        {
          "output_type": "stream",
          "name": "stdout",
          "text": [
            "[(1, -1), (1, -1), (1, -1), (1, -1), (1, -1)]\n"
          ]
        }
      ]
    },
    {
      "cell_type": "code",
      "source": [
        "from itertools import product\n",
        "\n",
        "# * 가변인수 리스트를 언패킹하여 product 함수에 개별 인자로 전달하는 역할\n",
        "possible_combinations = list(product(*c_list))\n",
        "print( possible_combinations)"
      ],
      "metadata": {
        "colab": {
          "base_uri": "https://localhost:8080/"
        },
        "id": "_CNsrHhSvJdf",
        "outputId": "c1a29011-c2a9-4cf2-d9a1-62e4dfacc013"
      },
      "execution_count": null,
      "outputs": [
        {
          "output_type": "stream",
          "name": "stdout",
          "text": [
            "[(1, 1, 1, 1, 1), (1, 1, 1, 1, -1), (1, 1, 1, -1, 1), (1, 1, 1, -1, -1), (1, 1, -1, 1, 1), (1, 1, -1, 1, -1), (1, 1, -1, -1, 1), (1, 1, -1, -1, -1), (1, -1, 1, 1, 1), (1, -1, 1, 1, -1), (1, -1, 1, -1, 1), (1, -1, 1, -1, -1), (1, -1, -1, 1, 1), (1, -1, -1, 1, -1), (1, -1, -1, -1, 1), (1, -1, -1, -1, -1), (-1, 1, 1, 1, 1), (-1, 1, 1, 1, -1), (-1, 1, 1, -1, 1), (-1, 1, 1, -1, -1), (-1, 1, -1, 1, 1), (-1, 1, -1, 1, -1), (-1, 1, -1, -1, 1), (-1, 1, -1, -1, -1), (-1, -1, 1, 1, 1), (-1, -1, 1, 1, -1), (-1, -1, 1, -1, 1), (-1, -1, 1, -1, -1), (-1, -1, -1, 1, 1), (-1, -1, -1, 1, -1), (-1, -1, -1, -1, 1), (-1, -1, -1, -1, -1)]\n"
          ]
        }
      ]
    },
    {
      "cell_type": "code",
      "source": [
        "from itertools import product\n",
        "\n",
        "def solution(numbers, target):\n",
        "    # +와 -를 조합한 모든 경우의 수를 product로 생성\n",
        "    possible_combinations = list(product(*[(+num, -num) for num in numbers]))\n",
        "\n",
        "    count = 0\n",
        "    for combination in possible_combinations:\n",
        "        if sum(combination) == target:  # 각 조합의 합이 target인지 확인\n",
        "            count += 1\n",
        "\n",
        "    return count\n",
        "\n",
        "# 예제 실행\n",
        "print(solution([1, 1, 1, 1, 1], 3))  # 출력: 5\n",
        "print(solution([4, 1, 2, 1], 4))     # 출력: 2\n"
      ],
      "metadata": {
        "colab": {
          "base_uri": "https://localhost:8080/"
        },
        "id": "Rd-iCFSpsMLj",
        "outputId": "5338118b-0911-452f-8949-e1d27466c4be"
      },
      "execution_count": null,
      "outputs": [
        {
          "output_type": "stream",
          "name": "stdout",
          "text": [
            "5\n",
            "2\n"
          ]
        }
      ]
    },
    {
      "cell_type": "markdown",
      "source": [
        "### 문제21 미로탈출 Lv2. 최적경로 BFS"
      ],
      "metadata": {
        "id": "tOrefV-sDpW6"
      }
    },
    {
      "cell_type": "markdown",
      "source": [
        "- 미로 내에서 특정 위치(레버)를 지나서 다른 위치(출구)에 도달하는 최단 경로를 찾는 것을 요구합니다. 주어진 미로에서 플레이어는 먼저 레버 위치로 이동하고 그 다음 출구까지의 경로를 찾아야 합니다. 이 문제는 그래프의 최단 경로 문제로 볼 수 있으며, 미로의 각 칸을 노드로 생각하고 통로를 간선으로 생각하면 됩니다. BFS(너비 우선 탐색) 알고리즘을 사용하여 이 문제를 효율적으로 해결할 수 있습니다."
      ],
      "metadata": {
        "id": "Au6Suqv1Oa3f"
      }
    },
    {
      "cell_type": "markdown",
      "source": [
        "- 알고리즘 설계\n",
        "    1. BFS 사용: 각 칸으로 이동할 때 걸리는 최소 시간을 구하기 위해 BFS를 사용합니다. BFS는 각 노드를 레벨별로 탐색하며, 각 레벨은 시작점에서 해당 노드까지의 최소 거리(시간)를 나타냅니다.\n",
        "    2. 중간 목표 확인: 먼저 BFS를 사용하여 시작 지점에서 레버까지의 최단 시간을 계산합니다. 그 후, 레버 위치에서 출구까지 다시 BFS를 수행하여 최단 시간을 계산합니다.\n",
        "    3.경로의 유효성 검사: 레버 또는 출구로의 경로가 존재하지 않는 경우 -1을 반환합니다.\n",
        "- 자료구조\n",
        "    - 큐(queue): BFS를 수행하기 위해 사용합니다.\n",
        "    - 방문 배열(visited): 각 칸의 방문 여부와 최소 시간을 기록합니다.\n",
        "    - 방향 배열(directions): 상하좌우 이동을 위해 사용합니다."
      ],
      "metadata": {
        "id": "Pltn9VsLOcyI"
      }
    },
    {
      "cell_type": "code",
      "source": [
        "from collections import deque\n",
        "\n",
        "def bfs(maps, start, end):\n",
        "    queue = deque([start])\n",
        "    visited = set([start])\n",
        "    #이동 가능한 방향 상, 하 좌 우\n",
        "    direction = [(1,0), (-1,0), (0,1), (0,-1)]\n",
        "    rows, cols = len(maps), len(maps[0])\n",
        "    distance = 0\n",
        "    while queue: # 큐가 비어 있지 않은 동안 반복\n",
        "        for _ in range(len(queue)): # 현재 레벨의 모든 노드 탐색\n",
        "            x, y = queue.popleft()\n",
        "            if (x, y) == end: # 목표 지점에 도달했는지 확인\n",
        "                return distance\n",
        "            for dx, dy in direction: # 네 방향으로 이동\n",
        "                nx, ny = x+dx, y+dy\n",
        "                # 유효한 이동인지 확인\n",
        "                if 0 <= nx < rows and 0 <= ny < cols and (nx, ny) not in visited and maps[nx][ny]!='X':\n",
        "                    # 새로운 위치는 탐색할 가치가 있는 위치이므로 큐에 추가하고 방문 목록에 추가합니다.\n",
        "                    queue.append((nx, ny))\n",
        "                    visited.add((nx, ny))\n",
        "        #  BFS는 distance를 증가시키기 전에 현재 레벨의 모든 노드를 탐색해야 합니다.\n",
        "        distance += 1\n",
        "    return -1\n",
        "\n",
        "def solution(maps):\n",
        "    start, lever, end = None, None, None\n",
        "\n",
        "    #start, lever, end 지점을 좌표 표시\n",
        "    for i in range(len(maps)):#행\n",
        "        for j in range(len(maps[0])):#열\n",
        "            if maps[i][j] =='S':\n",
        "                start = (i, j)\n",
        "            elif maps[i][j] =='L':\n",
        "                lever = (i,j)\n",
        "            elif maps[i][j] =='E':\n",
        "                end = (i,j)\n",
        "    # 시작지점에서 레버까지 최단 거리\n",
        "    start_lever = bfs(maps, start, lever)\n",
        "    if start_lever == -1:\n",
        "        return -1\n",
        "    # 레버에서 출구까지 최단거리\n",
        "    lever_exit = bfs(maps, lever, end)\n",
        "    if lever_exit == -1:\n",
        "        return -1\n",
        "    #최단거리\n",
        "    return start_lever + lever_exit"
      ],
      "metadata": {
        "id": "-fgbpk8PKPsV"
      },
      "execution_count": null,
      "outputs": []
    },
    {
      "cell_type": "markdown",
      "source": [
        "## 문제22. 전력망 둘고 나누기"
      ],
      "metadata": {
        "id": "m41g0p3jxebj"
      }
    },
    {
      "cell_type": "markdown",
      "source": [
        "- 트리는 나누어도 트리 세개나 네개되지 않고 항상 2개\n",
        "- 트리 탐색 DFS, BFS 여기서는 최단거니 , 최적 없으면 DFS\n",
        "- 간선을 다 나눠보면서 DFS 노드수를 계산 차를 구해서 최소값을 찾는거\n",
        " - 한 트리의 노드수 만 찾으면  전체 - 찾은수"
      ],
      "metadata": {
        "id": "r8FGAPkFykmI"
      }
    },
    {
      "cell_type": "code",
      "source": [
        "def solution(n, wires):\n",
        "    # 각노드의 인접노드를 저장하기 위한 2차원 배열 생성\n",
        "    graph = [[] for _ in range(n+1)]\n",
        "    # 주어진 정보를 이용해 그래프를 양방향으로 연결\n",
        "    for a, b in wires:\n",
        "        graph[a].append(b)\n",
        "        graph[b].append(a)\n",
        "\n",
        "    #깊이우선탐색\n",
        "    def dfs(node, parent): # node 현재 노드, parent부모노드\n",
        "        cnt = 1 # 현재 노드 포함\n",
        "        for child in graph[node]:\n",
        "            if child != parent:\n",
        "                cnt += dfs(child, node)\n",
        "        return cnt\n",
        "\n",
        "    # 송전탑의 갯수의 차  최소값을 저장\n",
        "    min_diff = float('inf')\n",
        "    #모든 전선에 대해 하나식 제거해보면서 두 저력망으로 나눠보고 차이 계산\n",
        "    for a, b in wires:\n",
        "        graph[a].remove(b)\n",
        "        graph[b].remove(a)\n",
        "\n",
        "        cnt_a = dfs(a,b)  # 각 전력망 송전탑 개수 계산\n",
        "        cnt_b = n - cnt_a\n",
        "\n",
        "        # 최소값 갱신\n",
        "        min_diff = min (min_diff, abs(cnt_a - cnt_b))\n",
        "\n",
        "        # 간선 복원, 다음 탐색을 위해\n",
        "        graph[a].append(b)\n",
        "        graph[b].append(a)\n",
        "\n",
        "    return min_diff"
      ],
      "metadata": {
        "id": "jyFlyGeFzMIR"
      },
      "execution_count": null,
      "outputs": []
    }
  ]
}